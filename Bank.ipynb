{
 "cells": [
  {
   "cell_type": "code",
   "execution_count": 1,
   "metadata": {},
   "outputs": [],
   "source": [
    "import findspark\n",
    "findspark.init()\n",
    "from pyspark.sql import SparkSession\n",
    "from datetime import date, datetime\n",
    "from pyspark.sql.functions import udf\n",
    "from pyspark.sql.types import StringType"
   ]
  },
  {
   "cell_type": "code",
   "execution_count": 1,
   "metadata": {},
   "outputs": [
    {
     "name": "stdout",
     "output_type": "stream",
     "text": [
      "4\n"
     ]
    }
   ],
   "source": [
    "y=\"a;b;c;\"\n",
    "z=y.split(\";\")\n",
    "print(len(z))"
   ]
  },
  {
   "cell_type": "code",
   "execution_count": 3,
   "metadata": {},
   "outputs": [
    {
     "data": {
      "text/plain": [
       "[10, 9, 8, 7, 6, 5, 4, 3, 2, 1]"
      ]
     },
     "execution_count": 3,
     "metadata": {},
     "output_type": "execute_result"
    }
   ],
   "source": [
    "list(reversed(range(1,11)))"
   ]
  },
  {
   "cell_type": "code",
   "execution_count": 2,
   "metadata": {},
   "outputs": [
    {
     "name": "stdout",
     "output_type": "stream",
     "text": [
      "3.3.0\n"
     ]
    }
   ],
   "source": [
    "spark = SparkSession.builder.master(\"local\").appName(\"SampleBank\").getOrCreate()\n",
    "print(spark.version)"
   ]
  },
  {
   "cell_type": "code",
   "execution_count": null,
   "metadata": {},
   "outputs": [],
   "source": [
    "f ={'a':'Red Delicious'}\n",
    "f['variety'] ="
   ]
  },
  {
   "cell_type": "code",
   "execution_count": 6,
   "metadata": {},
   "outputs": [
    {
     "name": "stdout",
     "output_type": "stream",
     "text": [
      "[1, 3, 4, 5]\n"
     ]
    }
   ],
   "source": [
    "n =[1,2,3,4,5]\n",
    "n.remove(2)\n",
    "print(n)"
   ]
  },
  {
   "cell_type": "code",
   "execution_count": 3,
   "metadata": {},
   "outputs": [
    {
     "name": "stdout",
     "output_type": "stream",
     "text": [
      "root\n",
      " |-- AccountNo: string (nullable = true)\n",
      " |-- Date: string (nullable = true)\n",
      " |-- TransactionDetails: string (nullable = true)\n",
      " |-- ChqNo: integer (nullable = true)\n",
      " |-- ValueDate: string (nullable = true)\n",
      " |-- WithdrawalAmt: string (nullable = true)\n",
      " |-- DepositAmt: string (nullable = true)\n",
      " |-- BalanceAmt: string (nullable = true)\n",
      "\n"
     ]
    }
   ],
   "source": [
    "bank_df = spark.read.csv(path='C:\\\\Arun\\\\BigData\\\\Dataset\\\\bank.csv', header=True, inferSchema=True)\n",
    "bank_df.printSchema()\n",
    "bank_df.createOrReplaceTempView(\"Bank_DF\")"
   ]
  },
  {
   "cell_type": "code",
   "execution_count": 4,
   "metadata": {},
   "outputs": [],
   "source": [
    "categoryMap = {}\n",
    "categoryMap.update({\"IMPS\" : \"IMPS\"});\n",
    "categoryMap.update({\"RTGS\" : \"RTGS\"});\n",
    "categoryMap.update({\"NEFT\" : \"NEFT\"});\n",
    "categoryMap.update({\"Indiaforensic\" :\"India Forensic\"});\n",
    "categoryMap.update({\"INTERNAL FUND\" : \"Internal Fund Transfer\"});\n",
    "categoryMap.update({\"CASHDEP\" : \"Cash Deposit\"});\n",
    "categoryMap.update({\"VISA\" : \"Visa\"});\n",
    "categoryMap.update({\"RUPAY\" : \"Rupay\"});\n",
    "categoryMap.update({\"MASTERCARD\" : \"Master Card\"});\n",
    "categoryMap.update({\"IRCTC\" : \"IRCTC\"});\n",
    "categoryMap.update({\"Processing Fee\" : \"Processing Fee\"});"
   ]
  },
  {
   "cell_type": "code",
   "execution_count": 5,
   "metadata": {},
   "outputs": [
    {
     "data": {
      "text/plain": [
       "'India Forensic'"
      ]
     },
     "execution_count": 5,
     "metadata": {},
     "output_type": "execute_result"
    }
   ],
   "source": [
    "def catFinder(category):\n",
    "    if category is not None:\n",
    "        for cat in categoryMap.keys():\n",
    "            if category.__contains__(cat):\n",
    "                return str(categoryMap.get(cat))\n",
    "    return \"Others\"\n",
    "catFinder(\"Indiaforensic\")"
   ]
  },
  {
   "cell_type": "code",
   "execution_count": 6,
   "metadata": {},
   "outputs": [],
   "source": [
    "Categorizer = udf(catFinder, StringType())"
   ]
  },
  {
   "cell_type": "code",
   "execution_count": 7,
   "metadata": {},
   "outputs": [
    {
     "name": "stdout",
     "output_type": "stream",
     "text": [
      "+-------------+---------+--------------------+-----+---------+-------------+------------+------------+--------------------+\n",
      "|    AccountNo|     Date|  TransactionDetails|ChqNo|ValueDate|WithdrawalAmt|  DepositAmt|  BalanceAmt|            Category|\n",
      "+-------------+---------+--------------------+-----+---------+-------------+------------+------------+--------------------+\n",
      "|409000611074'|29-Jun-17|TRF FROM  Indiafo...| null|29-Jun-17|         null|10,00,000.00|10,00,000.00|      India Forensic|\n",
      "|409000611074'|05-Jul-17|TRF FROM  Indiafo...| null|05-Jul-17|         null|10,00,000.00|20,00,000.00|      India Forensic|\n",
      "|409000611074'|18-Jul-17|FDRL/INTERNAL FUN...| null|18-Jul-17|         null| 5,00,000.00|25,00,000.00|Internal Fund Tra...|\n",
      "|409000611074'|01-Aug-17|TRF FRM  Indiafor...| null|01-Aug-17|         null|30,00,000.00|55,00,000.00|      India Forensic|\n",
      "|409000611074'|16-Aug-17|FDRL/INTERNAL FUN...| null|16-Aug-17|         null| 5,00,000.00|60,00,000.00|Internal Fund Tra...|\n",
      "+-------------+---------+--------------------+-----+---------+-------------+------------+------------+--------------------+\n",
      "only showing top 5 rows\n",
      "\n"
     ]
    }
   ],
   "source": [
    "TransactionDetail = bank_df.withColumn(\"Category\", Categorizer(bank_df.TransactionDetails))\n",
    "TransactionDetail.show(5)"
   ]
  },
  {
   "cell_type": "code",
   "execution_count": null,
   "metadata": {},
   "outputs": [],
   "source": []
  }
 ],
 "metadata": {
  "kernelspec": {
   "display_name": "Python 3.10.5 64-bit",
   "language": "python",
   "name": "python3"
  },
  "language_info": {
   "codemirror_mode": {
    "name": "ipython",
    "version": 3
   },
   "file_extension": ".py",
   "mimetype": "text/x-python",
   "name": "python",
   "nbconvert_exporter": "python",
   "pygments_lexer": "ipython3",
   "version": "3.10.5"
  },
  "vscode": {
   "interpreter": {
    "hash": "e51a49e3a9d2b60528187c6dc3f9b6219d7967dd70c023f097c30f5279ecec9a"
   }
  }
 },
 "nbformat": 4,
 "nbformat_minor": 2
}
